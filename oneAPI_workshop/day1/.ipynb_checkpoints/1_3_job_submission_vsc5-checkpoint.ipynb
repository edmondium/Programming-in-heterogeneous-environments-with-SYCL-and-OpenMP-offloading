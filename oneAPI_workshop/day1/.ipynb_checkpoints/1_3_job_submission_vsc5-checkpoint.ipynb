{
 "cells": [
  {
   "cell_type": "markdown",
   "id": "0a1a6cf3-53af-4964-8993-e56a96924931",
   "metadata": {},
   "source": [
    "# This NB is for showing how to submit a compilation for GPUs and CPUs and subsequent submit for running the programs.\n",
    "# Works basically also from the terminal\n",
    "# Please use the jobscripts from this NB for your own programs\n",
    "- one bash file for compilation \n",
    "- one bash file for running the programs"
   ]
  },
  {
   "cell_type": "markdown",
   "id": "3a8b2a6b-8b1b-4b2f-a4fa-8fd7ce12cd6e",
   "metadata": {},
   "source": [
    "Below is just a sample sycl program to test.It prints out the selected device."
   ]
  },
  {
   "cell_type": "code",
   "execution_count": 29,
   "id": "16c17c24-eee5-464d-9357-2dd472fa0c89",
   "metadata": {},
   "outputs": [
    {
     "name": "stdout",
     "output_type": "stream",
     "text": [
      "Overwriting simple-sycl-app.cpp\n"
     ]
    }
   ],
   "source": [
    "%%file simple-sycl-app.cpp\n",
    "\n",
    "#include <sycl/sycl.hpp>\n",
    "#include <iostream>\n",
    "\n",
    "using namespace sycl;\n",
    "\n",
    "int main() {\n",
    "\n",
    "  std::cout << \"running program:  simple-sycl-app \\n\" ;\n",
    "\n",
    "  queue Q;    \n",
    "\n",
    "  std::cout << \"******************************************* \\n\";  \n",
    "  std::cout << \"Selected device: \" <<\n",
    "    Q.get_device().get_info<info::device::name>() << \"\\n\";\n",
    "  std::cout << \"******************************************* \\n\";\n",
    "\n",
    "  return 0;\n",
    "}\n"
   ]
  },
  {
   "cell_type": "markdown",
   "id": "09cf9c8b-2185-4b01-a1e3-0ddbe546b30f",
   "metadata": {},
   "source": [
    "# compiling for nvidia gpu and our amd cpus"
   ]
  },
  {
   "cell_type": "code",
   "execution_count": 39,
   "id": "fee3fa27-9d67-49f4-a4ba-e4d37648d0b2",
   "metadata": {},
   "outputs": [
    {
     "name": "stdout",
     "output_type": "stream",
     "text": [
      "Overwriting job_vsc5_compile.sh\n"
     ]
    }
   ],
   "source": [
    "%%file job_vsc5_compile.sh\n",
    "#!/bin/bash\n",
    "\n",
    "#SBATCH --job-name    your_jobname\n",
    "#SBATCH --cluster     vsc5\n",
    "#SBATCH --reservation training_gpu\n",
    "#SBATCH --qos         zen3_0512_a100x2_training\n",
    "#SBATCH --partition   zen3_0512_a100x2\n",
    "#SBATCH --gres        gpu:1\n",
    "#SBATCH --time        00:01:00\n",
    "\n",
    "###########################\n",
    "\n",
    "spack unload\n",
    "spack load cuda@11.8.0\n",
    "\n",
    "source /opt/sw/vsc4/VSC/x86_64/generic/intel/oneapi/setvars.sh \n",
    "export LD_LIBRARY_PATH=/gpfs/opt/sw/cuda-zen/spack-0.19.0/opt/spack/linux-almalinux8-zen/gcc-9.5.0/gcc-12.2.0-nu5le4qn6edhcjiocq7wddclrvdj4xfg/lib64:$LD_LIBRARY_PATH    \n",
    "\n",
    "###########################\n",
    "\n",
    "echo \"**********************************************\"\n",
    "echo \"output of nvidia-smi\"\n",
    "echo \"**********************************************\"\n",
    "nvidia-smi\n",
    "\n",
    "\n",
    "echo \"**********************************************\"\n",
    "echo \"output of sycl-ls\"\n",
    "echo \"**********************************************\"\n",
    "sycl-ls\n",
    "\n",
    "\n",
    "echo \"**********************************************\"\n",
    "echo \"compiling \"\n",
    "echo \"icpx -fsycl -fsycl-targets=nvptx64-nvidia-cuda,spir64_x86_64 simple-sycl-app.cpp -o simple-sycl-app\"\n",
    "echo \"**********************************************\"\n",
    "icpx -fsycl -fsycl-targets=nvptx64-nvidia-cuda simple-sycl-app.cpp -o simple-sycl-app \n"
   ]
  },
  {
   "cell_type": "code",
   "execution_count": 46,
   "id": "138e72b0-c660-475f-95b2-e22569d87d13",
   "metadata": {},
   "outputs": [
    {
     "name": "stdout",
     "output_type": "stream",
     "text": [
      "sbatch: Allocating 50.0 % of cpu resources: 64 / 128.\n",
      "sbatch: Number of tasks adjusted to 64.\n",
      "Submitted batch job 1620837 on cluster vsc5\n"
     ]
    }
   ],
   "source": [
    "! sbatch job_vsc5_compile.sh"
   ]
  },
  {
   "cell_type": "markdown",
   "id": "15a63fc2-cbaa-4917-b7e7-5f4298a3ccc4",
   "metadata": {},
   "source": [
    "#### the $USER is for your username"
   ]
  },
  {
   "cell_type": "code",
   "execution_count": 48,
   "id": "6b5706e0-c991-433c-ad68-50fbe65ebec1",
   "metadata": {},
   "outputs": [
    {
     "name": "stdout",
     "output_type": "stream",
     "text": [
      "CLUSTER: vsc5\n",
      "             JOBID            PARTITION     NAME     USER ST       TIME  NODES     NODELIST(REASON)\n",
      "           1620734    zen3_0512_jupyter vsc5_jh_ trainee9  R    2:36:34      1            n3503-022\n"
     ]
    }
   ],
   "source": [
    "! squeue -u $USER --cluster vsc5"
   ]
  },
  {
   "cell_type": "code",
   "execution_count": 43,
   "id": "b8eaa50e-024f-4f21-926e-6ea2a5ba0eb0",
   "metadata": {},
   "outputs": [
    {
     "name": "stdout",
     "output_type": "stream",
     "text": [
      "/bin/bash: JOBID: No such file or directory\n"
     ]
    }
   ],
   "source": [
    "# insert the jobid \n",
    "!cat slurm-<JOBID>.out"
   ]
  },
  {
   "cell_type": "code",
   "execution_count": 49,
   "id": "cd02149a-875b-4599-9900-50b6aa101696",
   "metadata": {},
   "outputs": [
    {
     "name": "stdout",
     "output_type": "stream",
     "text": [
      "total 6851\n",
      "-rw-r--r-- 1 trainee96 p70824  420336 Dec  5 11:46 1_1_welcome_FINAL.pdf\n",
      "-rw-r--r-- 1 trainee96 p70824 1833724 Dec  7 13:27 1_2_Intel_Devcloud_FINAL.pdf\n",
      "-rw-r--r-- 1 trainee96 p70824 3678052 Dec  8 11:46 3_adv_sycl_sonersteiner_vienna_FINAL.pdf\n",
      "-rw-r--r-- 1 trainee96 p70824  268829 Dec  8 13:33 SYCL_Introduction.ipynb\n",
      "-rw-r--r-- 1 trainee96 p70824  738212 Dec  8 13:33 SYCL_Introduction.pdf\n",
      "-rw-r--r-- 1 trainee96 p70824     762 Dec 11 06:00 job_vsc5_gpu_run.sh\n",
      "-rw-r--r-- 1 trainee96 p70824     401 Dec 11 06:14 simple-sycl-app.cpp\n",
      "drwxrwxr-x 7 trainee96 p70824    4096 Dec 11 06:22 1445-1600-LAB2-advanced-sycl\n",
      "-rw-r--r-- 1 trainee96 p70824   22316 Dec 11 07:28 1_3_job_submission_vsc5.ipynb\n",
      "-rw-r--r-- 1 trainee96 p70824    1201 Dec 11 08:27 job_vsc5_compile.sh\n",
      "-rw-r--r-- 1 trainee96 p70824    3107 Dec 11 08:28 slurm-1620836.out\n",
      "-rw-r--r-- 1 trainee96 p70824    3022 Dec 11 08:30 slurm-1620837.out\n",
      "-rwxr-xr-x 1 trainee96 p70824   31560 Dec 11 08:30 simple-sycl-app\n"
     ]
    }
   ],
   "source": [
    "!ls -ltr "
   ]
  },
  {
   "cell_type": "markdown",
   "id": "cf695d8b-9778-457d-bd1f-4901d1edd132",
   "metadata": {},
   "source": [
    "## check if the program compiled"
   ]
  },
  {
   "cell_type": "code",
   "execution_count": 50,
   "id": "0dcdb192-2ac8-4491-8364-4aedc123ce7b",
   "metadata": {},
   "outputs": [
    {
     "name": "stdout",
     "output_type": "stream",
     "text": [
      " \n",
      ":: initializing oneAPI environment ...\n",
      "   slurm_script: BASH_VERSION = 4.4.20(1)-release\n",
      "   args: Using \"$@\" for setvars.sh arguments: \n",
      ":: advisor -- latest\n",
      ":: ccl -- latest\n",
      ":: compiler -- latest\n",
      ":: dal -- latest\n",
      ":: debugger -- latest\n",
      ":: dev-utilities -- latest\n",
      ":: dnnl -- latest\n",
      ":: dpcpp-ct -- latest\n",
      ":: dpl -- latest\n",
      ":: inspector -- latest\n",
      ":: ipp -- latest\n",
      ":: ippcp -- latest\n",
      ":: itac -- latest\n",
      ":: mkl -- latest\n",
      ":: mpi -- latest\n",
      ":: tbb -- latest\n",
      ":: vtune -- latest\n",
      ":: oneAPI environment initialized ::\n",
      " \n",
      "**********************************************\n",
      "output of nvidia-smi\n",
      "**********************************************\n",
      "Mon Dec 11 08:30:09 2023       \n",
      "+---------------------------------------------------------------------------------------+\n",
      "| NVIDIA-SMI 545.23.08              Driver Version: 545.23.08    CUDA Version: 12.3     |\n",
      "|-----------------------------------------+----------------------+----------------------+\n",
      "| GPU  Name                 Persistence-M | Bus-Id        Disp.A | Volatile Uncorr. ECC |\n",
      "| Fan  Temp   Perf          Pwr:Usage/Cap |         Memory-Usage | GPU-Util  Compute M. |\n",
      "|                                         |                      |               MIG M. |\n",
      "|=========================================+======================+======================|\n",
      "|   0  NVIDIA A100-PCIE-40GB          Off | 00000000:01:00.0 Off |                  Off |\n",
      "| N/A   42C    P0              41W / 250W |      4MiB / 40960MiB |     37%      Default |\n",
      "|                                         |                      |             Disabled |\n",
      "+-----------------------------------------+----------------------+----------------------+\n",
      "                                                                                         \n",
      "+---------------------------------------------------------------------------------------+\n",
      "| Processes:                                                                            |\n",
      "|  GPU   GI   CI        PID   Type   Process name                            GPU Memory |\n",
      "|        ID   ID                                                             Usage      |\n",
      "|=======================================================================================|\n",
      "|  No running processes found                                                           |\n",
      "+---------------------------------------------------------------------------------------+\n",
      "**********************************************\n",
      "output of sycl-ls\n",
      "**********************************************\n",
      "[opencl:acc:0] Intel(R) FPGA Emulation Platform for OpenCL(TM), Intel(R) FPGA Emulation Device OpenCL 1.2  [2023.16.10.0.17_160000]\n",
      "[opencl:cpu:1] Intel(R) OpenCL, AMD EPYC 7713 64-Core Processor                 OpenCL 3.0 (Build 0) [2023.16.10.0.17_160000]\n",
      "[ext_oneapi_cuda:gpu:0] NVIDIA CUDA BACKEND, NVIDIA A100-PCIE-40GB 8.0 [CUDA 12.3]\n",
      "**********************************************\n",
      "compiling \n",
      "icpx -fsycl -fsycl-targets=nvptx64-nvidia-cuda,spir64_x86_64 simple-sycl-app.cpp -o simple-sycl-app\n",
      "**********************************************\n"
     ]
    }
   ],
   "source": [
    "!cat slurm-1620837.out"
   ]
  },
  {
   "cell_type": "code",
   "execution_count": 51,
   "id": "17ac46bc-b6e2-4f84-bbce-df71402fc993",
   "metadata": {
    "tags": []
   },
   "outputs": [
    {
     "name": "stdout",
     "output_type": "stream",
     "text": [
      "total 6851\n",
      "-rw-r--r-- 1 trainee96 p70824  420336 Dec  5 11:46 1_1_welcome_FINAL.pdf\n",
      "-rw-r--r-- 1 trainee96 p70824 1833724 Dec  7 13:27 1_2_Intel_Devcloud_FINAL.pdf\n",
      "-rw-r--r-- 1 trainee96 p70824 3678052 Dec  8 11:46 3_adv_sycl_sonersteiner_vienna_FINAL.pdf\n",
      "-rw-r--r-- 1 trainee96 p70824  268829 Dec  8 13:33 SYCL_Introduction.ipynb\n",
      "-rw-r--r-- 1 trainee96 p70824  738212 Dec  8 13:33 SYCL_Introduction.pdf\n",
      "-rw-r--r-- 1 trainee96 p70824     762 Dec 11 06:00 job_vsc5_gpu_run.sh\n",
      "-rw-r--r-- 1 trainee96 p70824     401 Dec 11 06:14 simple-sycl-app.cpp\n",
      "drwxrwxr-x 7 trainee96 p70824    4096 Dec 11 06:22 1445-1600-LAB2-advanced-sycl\n",
      "-rw-r--r-- 1 trainee96 p70824   22316 Dec 11 07:28 1_3_job_submission_vsc5.ipynb\n",
      "-rw-r--r-- 1 trainee96 p70824    1201 Dec 11 08:27 job_vsc5_compile.sh\n",
      "-rw-r--r-- 1 trainee96 p70824    3107 Dec 11 08:28 slurm-1620836.out\n",
      "-rw-r--r-- 1 trainee96 p70824    3022 Dec 11 08:30 slurm-1620837.out\n",
      "-rwxr-xr-x 1 trainee96 p70824   31560 Dec 11 08:30 simple-sycl-app\n"
     ]
    }
   ],
   "source": [
    "! ls -ltr "
   ]
  },
  {
   "cell_type": "markdown",
   "id": "530523ee-4875-4464-8e51-0484a17c4851",
   "metadata": {
    "tags": []
   },
   "source": [
    "# running on a GPU"
   ]
  },
  {
   "cell_type": "code",
   "execution_count": 55,
   "id": "8a69b797-4370-44ce-8a53-61fd45981f2f",
   "metadata": {},
   "outputs": [
    {
     "name": "stdout",
     "output_type": "stream",
     "text": [
      "Overwriting job_vsc5_gpu_run.sh\n"
     ]
    }
   ],
   "source": [
    "%%file job_vsc5_gpu_run.sh\n",
    "#!/bin/bash\n",
    "\n",
    "#SBATCH --job-name    name\n",
    "#SBATCH --cluster     vsc5\n",
    "#SBATCH --reservation training_gpu\n",
    "#SBATCH --qos         zen3_0512_a100x2_training\n",
    "#SBATCH --partition   zen3_0512_a100x2\n",
    "#SBATCH --gres        gpu:1\n",
    "#SBATCH --time        00:01:00\n",
    "###########################\n",
    "\n",
    "spack unload\n",
    "spack load cuda@11.8.0\n",
    "\n",
    "source /opt/sw/vsc4/VSC/x86_64/generic/intel/oneapi/setvars.sh \n",
    "export LD_LIBRARY_PATH=/gpfs/opt/sw/cuda-zen/spack-0.19.0/opt/spack/linux-almalinux8-zen/gcc-9.5.0/gcc-12.2.0-nu5le4qn6edhcjiocq7wddclrvdj4xfg/lib64:$LD_LIBRARY_PATH    \n",
    "\n",
    "###########################\n",
    "\n",
    "echo \"starting program simple-sycl-app on the nvidia gpu\"\n",
    "echo \"**********************************************\"\n",
    "./simple-sycl-app\n",
    "echo \"**********************************************\"\n"
   ]
  },
  {
   "cell_type": "code",
   "execution_count": 56,
   "id": "df2c15c9-bcf1-493b-bf02-d84c759a5784",
   "metadata": {},
   "outputs": [
    {
     "name": "stdout",
     "output_type": "stream",
     "text": [
      "sbatch: Allocating 50.0 % of cpu resources: 64 / 128.\n",
      "sbatch: Number of tasks adjusted to 64.\n",
      "Submitted batch job 1620839 on cluster vsc5\n"
     ]
    }
   ],
   "source": [
    "!sbatch job_vsc5_gpu_run.sh"
   ]
  },
  {
   "cell_type": "code",
   "execution_count": 58,
   "id": "430ee7ef-da9f-4c95-aa10-46104a1eb887",
   "metadata": {},
   "outputs": [
    {
     "name": "stdout",
     "output_type": "stream",
     "text": [
      "             JOBID            PARTITION     NAME     USER ST       TIME  NODES     NODELIST(REASON)\n",
      "           1620734    zen3_0512_jupyter vsc5_jh_ trainee9  R    2:37:40      1            n3503-022\n"
     ]
    }
   ],
   "source": [
    "!squeue -u $USER"
   ]
  },
  {
   "cell_type": "code",
   "execution_count": 59,
   "id": "19b28ed9-06ff-4dcc-86a5-c851e588ea00",
   "metadata": {},
   "outputs": [
    {
     "name": "stdout",
     "output_type": "stream",
     "text": [
      "total 6852\n",
      "-rw-r--r-- 1 trainee96 p70824  420336 Dec  5 11:46 1_1_welcome_FINAL.pdf\n",
      "-rw-r--r-- 1 trainee96 p70824 1833724 Dec  7 13:27 1_2_Intel_Devcloud_FINAL.pdf\n",
      "-rw-r--r-- 1 trainee96 p70824 3678052 Dec  8 11:46 3_adv_sycl_sonersteiner_vienna_FINAL.pdf\n",
      "-rw-r--r-- 1 trainee96 p70824  268829 Dec  8 13:33 SYCL_Introduction.ipynb\n",
      "-rw-r--r-- 1 trainee96 p70824  738212 Dec  8 13:33 SYCL_Introduction.pdf\n",
      "-rw-r--r-- 1 trainee96 p70824     401 Dec 11 06:14 simple-sycl-app.cpp\n",
      "drwxrwxr-x 7 trainee96 p70824    4096 Dec 11 06:22 1445-1600-LAB2-advanced-sycl\n",
      "-rw-r--r-- 1 trainee96 p70824   22316 Dec 11 07:28 1_3_job_submission_vsc5.ipynb\n",
      "-rw-r--r-- 1 trainee96 p70824    1201 Dec 11 08:27 job_vsc5_compile.sh\n",
      "-rw-r--r-- 1 trainee96 p70824    3107 Dec 11 08:28 slurm-1620836.out\n",
      "-rw-r--r-- 1 trainee96 p70824    3022 Dec 11 08:30 slurm-1620837.out\n",
      "-rwxr-xr-x 1 trainee96 p70824   31560 Dec 11 08:30 simple-sycl-app\n",
      "-rw-r--r-- 1 trainee96 p70824     763 Dec 11 08:31 job_vsc5_gpu_run.sh\n",
      "-rw-r--r-- 1 trainee96 p70824     816 Dec 11 08:31 slurm-1620839.out\n"
     ]
    }
   ],
   "source": [
    "!ls -ltr"
   ]
  },
  {
   "cell_type": "code",
   "execution_count": 60,
   "id": "2f2d9aaa-b33c-4d42-b723-2f2ad608490f",
   "metadata": {},
   "outputs": [
    {
     "name": "stdout",
     "output_type": "stream",
     "text": [
      " \n",
      ":: initializing oneAPI environment ...\n",
      "   slurm_script: BASH_VERSION = 4.4.20(1)-release\n",
      "   args: Using \"$@\" for setvars.sh arguments: \n",
      ":: advisor -- latest\n",
      ":: ccl -- latest\n",
      ":: compiler -- latest\n",
      ":: dal -- latest\n",
      ":: debugger -- latest\n",
      ":: dev-utilities -- latest\n",
      ":: dnnl -- latest\n",
      ":: dpcpp-ct -- latest\n",
      ":: dpl -- latest\n",
      ":: inspector -- latest\n",
      ":: ipp -- latest\n",
      ":: ippcp -- latest\n",
      ":: itac -- latest\n",
      ":: mkl -- latest\n",
      ":: mpi -- latest\n",
      ":: tbb -- latest\n",
      ":: vtune -- latest\n",
      ":: oneAPI environment initialized ::\n",
      " \n",
      "starting program simple-sycl-app on the nvidia gpu\n",
      "**********************************************\n",
      "running program:  simple-sycl-app \n",
      "******************************************* \n",
      "Selected device: NVIDIA A100-PCIE-40GB\n",
      "******************************************* \n",
      "**********************************************\n"
     ]
    }
   ],
   "source": [
    "!cat slurm-1620839.out"
   ]
  },
  {
   "cell_type": "markdown",
   "id": "92c09ae6-6730-40ca-98a2-00b510f8da97",
   "metadata": {},
   "source": [
    "# running on a CPU"
   ]
  },
  {
   "cell_type": "code",
   "execution_count": 61,
   "id": "37888c44-d9fa-4c24-8f25-b3f4b850688e",
   "metadata": {},
   "outputs": [
    {
     "name": "stdout",
     "output_type": "stream",
     "text": [
      "Writing job_vsc5_cpu_run.sh\n"
     ]
    }
   ],
   "source": [
    "%%file job_vsc5_cpu_run.sh\n",
    "#!/bin/bash\n",
    "\n",
    "#SBATCH --job-name    name\n",
    "#SBATCH --cluster     vsc5\n",
    "#SBATCH --reservation training_cpu\n",
    "#SBATCH --nodes       1\n",
    "#SBATCH --qos         zen3_0512\n",
    "#SBATCH --partition   zen3_0512\n",
    "#SBATCH --time        00:01:00\n",
    "###########################\n",
    "\n",
    "source /opt/sw/vsc4/VSC/x86_64/generic/intel/oneapi/setvars.sh \n",
    "\n",
    "###########################\n",
    "\n",
    "echo \"starting program simple-sycl-app on the cpu\"\n",
    "echo \"**********************************************\"\n",
    "./simple-sycl-app\n",
    "echo \"**********************************************\"\n"
   ]
  },
  {
   "cell_type": "code",
   "execution_count": 64,
   "id": "42d1b8b7-3bd5-4647-84d8-b6f664d2a526",
   "metadata": {},
   "outputs": [
    {
     "name": "stdout",
     "output_type": "stream",
     "text": [
      "Submitted batch job 1620840 on cluster vsc5\n"
     ]
    }
   ],
   "source": [
    "!sbatch job_vsc5_cpu_run.sh"
   ]
  },
  {
   "cell_type": "code",
   "execution_count": 66,
   "id": "6f690f53-ef88-4cd7-9c40-8ec15262091b",
   "metadata": {},
   "outputs": [
    {
     "name": "stdout",
     "output_type": "stream",
     "text": [
      "             JOBID            PARTITION     NAME     USER ST       TIME  NODES     NODELIST(REASON)\n",
      "           1620734    zen3_0512_jupyter vsc5_jh_ trainee9  R    2:39:19      1            n3503-022\n"
     ]
    }
   ],
   "source": [
    "!squeue -u $USER"
   ]
  },
  {
   "cell_type": "code",
   "execution_count": 67,
   "id": "0055fac0-1331-4321-9727-36868f95e8d0",
   "metadata": {},
   "outputs": [
    {
     "name": "stdout",
     "output_type": "stream",
     "text": [
      "total 6853\n",
      "-rw-r--r-- 1 trainee96 p70824  420336 Dec  5 11:46 1_1_welcome_FINAL.pdf\n",
      "-rw-r--r-- 1 trainee96 p70824 1833724 Dec  7 13:27 1_2_Intel_Devcloud_FINAL.pdf\n",
      "-rw-r--r-- 1 trainee96 p70824 3678052 Dec  8 11:46 3_adv_sycl_sonersteiner_vienna_FINAL.pdf\n",
      "-rw-r--r-- 1 trainee96 p70824  268829 Dec  8 13:33 SYCL_Introduction.ipynb\n",
      "-rw-r--r-- 1 trainee96 p70824  738212 Dec  8 13:33 SYCL_Introduction.pdf\n",
      "-rw-r--r-- 1 trainee96 p70824     401 Dec 11 06:14 simple-sycl-app.cpp\n",
      "drwxrwxr-x 7 trainee96 p70824    4096 Dec 11 06:22 1445-1600-LAB2-advanced-sycl\n",
      "-rw-r--r-- 1 trainee96 p70824    1201 Dec 11 08:27 job_vsc5_compile.sh\n",
      "-rw-r--r-- 1 trainee96 p70824    3107 Dec 11 08:28 slurm-1620836.out\n",
      "-rw-r--r-- 1 trainee96 p70824    3022 Dec 11 08:30 slurm-1620837.out\n",
      "-rwxr-xr-x 1 trainee96 p70824   31560 Dec 11 08:30 simple-sycl-app\n",
      "-rw-r--r-- 1 trainee96 p70824     763 Dec 11 08:31 job_vsc5_gpu_run.sh\n",
      "-rw-r--r-- 1 trainee96 p70824     816 Dec 11 08:31 slurm-1620839.out\n",
      "-rw-r--r-- 1 trainee96 p70824   24478 Dec 11 08:32 1_3_job_submission_vsc5.ipynb\n",
      "-rw-r--r-- 1 trainee96 p70824     522 Dec 11 08:32 job_vsc5_cpu_run.sh\n",
      "-rw-r--r-- 1 trainee96 p70824    1113 Dec 11 08:33 slurm-1620840.out\n"
     ]
    }
   ],
   "source": [
    "!ls -ltr "
   ]
  },
  {
   "cell_type": "code",
   "execution_count": 68,
   "id": "9c398b45-23fc-4718-b5e1-32b86cde5d31",
   "metadata": {},
   "outputs": [
    {
     "name": "stdout",
     "output_type": "stream",
     "text": [
      " \n",
      ":: initializing oneAPI environment ...\n",
      "   slurm_script: BASH_VERSION = 4.4.20(1)-release\n",
      "   args: Using \"$@\" for setvars.sh arguments: \n",
      ":: advisor -- latest\n",
      ":: ccl -- latest\n",
      ":: compiler -- latest\n",
      ":: dal -- latest\n",
      ":: debugger -- latest\n",
      ":: dev-utilities -- latest\n",
      ":: dnnl -- latest\n",
      ":: dpcpp-ct -- latest\n",
      ":: dpl -- latest\n",
      ":: inspector -- latest\n",
      ":: ipp -- latest\n",
      ":: ippcp -- latest\n",
      ":: itac -- latest\n",
      ":: mkl -- latest\n",
      ":: mpi -- latest\n",
      ":: tbb -- latest\n",
      ":: vtune -- latest\n",
      ":: oneAPI environment initialized ::\n",
      " \n",
      "starting program simple-sycl-app on the cpu\n",
      "**********************************************\n",
      "running program:  simple-sycl-app \n",
      "\n",
      "UR CUDA ERROR:\n",
      "\tValue:           100\n",
      "\tName:            CUDA_ERROR_NO_DEVICE\n",
      "\tDescription:     no CUDA-capable device is detected\n",
      "\tFunction:        operator()\n",
      "\tSource Location: /tmp/tmp.7vgJ2wJCWQ/intel-llvm-mirror/sycl/plugins/unified_runtime/ur/adapters/cuda/platform.cpp:76\n",
      "\n",
      "******************************************* \n",
      "Selected device: AMD EPYC 7713 64-Core Processor                \n",
      "******************************************* \n",
      "**********************************************\n"
     ]
    }
   ],
   "source": [
    "!cat slurm-1620840.out"
   ]
  },
  {
   "cell_type": "markdown",
   "id": "9c2e62e4-80ba-4bbf-a136-25f8954f6312",
   "metadata": {},
   "source": [
    "### you can ignore the cuda error! The selected device is:\n",
    "### AMD EPYC 7713 64-Core Processor"
   ]
  },
  {
   "cell_type": "code",
   "execution_count": null,
   "id": "96232a9e-3de2-4535-8d38-4b9aa671ec81",
   "metadata": {},
   "outputs": [],
   "source": []
  }
 ],
 "metadata": {
  "kernelspec": {
   "display_name": "Python 3 (ipykernel)",
   "language": "python",
   "name": "python3"
  },
  "language_info": {
   "codemirror_mode": {
    "name": "ipython",
    "version": 3
   },
   "file_extension": ".py",
   "mimetype": "text/x-python",
   "name": "python",
   "nbconvert_exporter": "python",
   "pygments_lexer": "ipython3",
   "version": "3.10.5"
  }
 },
 "nbformat": 4,
 "nbformat_minor": 5
}
