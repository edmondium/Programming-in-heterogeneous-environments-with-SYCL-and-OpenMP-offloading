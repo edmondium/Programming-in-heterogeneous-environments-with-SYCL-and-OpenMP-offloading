{
 "cells": [
  {
   "cell_type": "markdown",
   "id": "e1fadd22-60d6-42c7-88a5-38daac8aa77e",
   "metadata": {},
   "source": [
    "# LAB3 openmp cpp\n",
    "We will be working on VSC5, I will putt only one jobscript for compilation and running of the programs here. It is your job to write the corresponding jobscripts for the exercises.\n",
    "The exercises are simple, starting with a Hello World and getting more complicated as the number increases. Try to solve before you look them up in the solution folder.\n",
    "<br>\n",
    "<br>\n",
    "The file is starting with 00, 01, ... and so on .\n",
    "<br>\n",
    "For each exercise there is separate folder in the lab folder:\n",
    "<br>\n",
    "openmp-fortran/00-Hello/\n",
    "<br>\n",
    "Do not build the programs on the login node, for each exercise we need two jobscipts."
   ]
  },
  {
   "cell_type": "markdown",
   "id": "ab9c2fe2-6fb6-4cb7-bdb3-c10f51563cda",
   "metadata": {},
   "source": [
    "# LAB3: get your hands dirty:"
   ]
  },
  {
   "cell_type": "markdown",
   "id": "9149a4a1-166d-4cc1-b118-e21eb9faca13",
   "metadata": {},
   "source": [
    "### In the directory openmp_cpp/00-Hello/\n",
    "are the following program:\n",
    "- 00-Hello.cpp\n",
    "<br>\n",
    "Compile and run this program several times.\n",
    "Is the result always the same?\n",
    "Let’s try to understand what is happening, the keyword here is\n",
    "concurrency of threads.\n",
    "- 00-Hello_2_num_threads.cpp\n",
    "<br>\n",
    "Read the file and add the number of threads to the print statement.\n",
    "- 00-Hello_3_timing.cpp\n",
    "<br>\n",
    "Measure the time in the parallel block and print it out."
   ]
  },
  {
   "cell_type": "code",
   "execution_count": 51,
   "id": "59f6fe8d-4ade-4b4b-bf08-68b819d07c74",
   "metadata": {
    "tags": []
   },
   "outputs": [
    {
     "name": "stdout",
     "output_type": "stream",
     "text": [
      "Overwriting hello_compile_1.sh\n"
     ]
    }
   ],
   "source": [
    "%%file hello_compile_1.sh\n",
    "#!/bin/bash\n",
    "\n",
    "#SBATCH --job-name    name\n",
    "#SBATCH --cluster     vsc5\n",
    "#SBATCH --reservation training_cpu\n",
    "#SBATCH --qos         zen3_0512\n",
    "#SBATCH --partition   zen3_0512\n",
    "#SBATCH --mem         1G\n",
    "#SBATCH --time        00:01:00\n",
    "\n",
    "###########################\n",
    "\n",
    "source /opt/sw/vsc4/VSC/x86_64/generic/intel/oneapi/setvars.sh \n",
    "\n",
    "###########################\n",
    "\n",
    "echo \"**********************************************\"\n",
    "echo \"compiling \"\n",
    "echo \"ifx -fiopenmp -fopenmp-targets=spir64 Hello.cpp -o Hello.x\"\n",
    "echo \"**********************************************\"\n",
    "icpx -fiopenmp 00-Hello/00-Hello.cpp -o 00-Hello/00-Hello.x \n",
    "echo \"**********************************************\"\n"
   ]
  },
  {
   "cell_type": "code",
   "execution_count": 52,
   "id": "ff323519-427c-4c5b-9b01-50067ba51127",
   "metadata": {},
   "outputs": [
    {
     "name": "stdout",
     "output_type": "stream",
     "text": [
      "Submitted batch job 1621030 on cluster vsc5\n"
     ]
    }
   ],
   "source": [
    "!sbatch hello_compile_1.sh"
   ]
  },
  {
   "cell_type": "code",
   "execution_count": 55,
   "id": "85df2d0d-51d0-4cf4-9e9c-9d5fd7132fb5",
   "metadata": {},
   "outputs": [
    {
     "name": "stdout",
     "output_type": "stream",
     "text": [
      "             JOBID            PARTITION     NAME     USER ST       TIME  NODES     NODELIST(REASON)\n",
      "           1620734    zen3_0512_jupyter vsc5_jh_ trainee9  R    4:43:32      1            n3503-022\n"
     ]
    }
   ],
   "source": [
    "!squeue -u $USER"
   ]
  },
  {
   "cell_type": "code",
   "execution_count": 57,
   "id": "73b70ad2-d29b-44c8-97ca-232dea474195",
   "metadata": {},
   "outputs": [
    {
     "name": "stdout",
     "output_type": "stream",
     "text": [
      "total 26\n",
      "-rw-r--r-- 1 trainee96 p70824   635 Apr 10  2023 00-Hello.cpp\n",
      "-rw-r--r-- 1 trainee96 p70824   822 Apr 10  2023 00-Hello_2_num_threads.cpp\n",
      "-rw-r--r-- 1 trainee96 p70824   746 Apr 10  2023 00-Hello_3_timing.cpp\n",
      "-rwxr-xr-x 1 trainee96 p70824 18608 Dec 11 10:37 00-Hello.x\n"
     ]
    }
   ],
   "source": [
    "!ls -ltr 00-Hello/"
   ]
  },
  {
   "cell_type": "code",
   "execution_count": 61,
   "id": "a7b5fe58-1ecb-4811-9def-ff246329bf94",
   "metadata": {
    "tags": []
   },
   "outputs": [
    {
     "name": "stdout",
     "output_type": "stream",
     "text": [
      "Overwriting hello_run_1.sh\n"
     ]
    }
   ],
   "source": [
    "%%file hello_run_1.sh\n",
    "#!/bin/bash\n",
    "\n",
    "#SBATCH --job-name    name\n",
    "#SBATCH --cluster     vsc5\n",
    "#SBATCH --reservation training_cpu\n",
    "#SBATCH --qos         zen3_0512\n",
    "#SBATCH --partition   zen3_0512\n",
    "#SBATCH --mem         1G\n",
    "#SBATCH --time        00:01:00\n",
    "###########################\n",
    "\n",
    "source /opt/sw/vsc4/VSC/x86_64/generic/intel/oneapi/setvars.sh \n",
    "\n",
    "###########################\n",
    "\n",
    "export OMP_NUM_THREADS=4\n",
    "\n",
    "echo \"starting program Hello.x on the cpu\"\n",
    "echo \"**********************************************\"\n",
    "00-Hello/00-Hello.x\n",
    "echo \"**********************************************\"\n"
   ]
  },
  {
   "cell_type": "code",
   "execution_count": 62,
   "id": "daed4b07-dfb6-4bbc-aebf-25a4c3b5fbc9",
   "metadata": {},
   "outputs": [
    {
     "name": "stdout",
     "output_type": "stream",
     "text": [
      "Submitted batch job 1621034 on cluster vsc5\n"
     ]
    }
   ],
   "source": [
    "!sbatch hello_run_1.sh"
   ]
  },
  {
   "cell_type": "code",
   "execution_count": 64,
   "id": "a292ed88-9bbb-4818-961b-88e3a9ad30d2",
   "metadata": {},
   "outputs": [
    {
     "name": "stdout",
     "output_type": "stream",
     "text": [
      "             JOBID            PARTITION     NAME     USER ST       TIME  NODES     NODELIST(REASON)\n",
      "           1620734    zen3_0512_jupyter vsc5_jh_ trainee9  R    4:44:45      1            n3503-022\n"
     ]
    }
   ],
   "source": [
    "!squeue -u $USER"
   ]
  },
  {
   "cell_type": "code",
   "execution_count": 65,
   "id": "191f02bf-afee-4206-b458-abd4d9a0b26e",
   "metadata": {},
   "outputs": [
    {
     "name": "stdout",
     "output_type": "stream",
     "text": [
      "total 21\n",
      "drwxr-xr-x 2 trainee96 p70824  4096 Apr 10  2023 03-integral\n",
      "drwxr-xr-x 2 trainee96 p70824  4096 Apr 13  2023 solutions\n",
      "drwxr-xr-x 2 trainee96 p70824  4096 Dec  8 08:42 02-nowait\n",
      "drwxr-xr-x 3 trainee96 p70824  4096 Dec 11 10:23 01-simple-loop\n",
      "-rw-r--r-- 1 trainee96 p70824   654 Dec 11 10:37 hello_compile_1.sh\n",
      "drwxr-xr-x 3 trainee96 p70824  4096 Dec 11 10:37 00-Hello\n",
      "-rw-r--r-- 1 trainee96 p70824   718 Dec 11 10:37 slurm-1621030.out\n",
      "-rw-rw-r-- 1 trainee96 p70824 12907 Dec 11 10:37 LAB3-openmp-cpp.ipynb\n",
      "-rw-r--r-- 1 trainee96 p70824   543 Dec 11 10:38 hello_run_1.sh\n",
      "-rw-r--r-- 1 trainee96 p70824   957 Dec 11 10:38 slurm-1621034.out\n"
     ]
    }
   ],
   "source": [
    "!ls -ltr "
   ]
  },
  {
   "cell_type": "markdown",
   "id": "174ffdd1-bb52-4fb1-b333-f99e6bbde75f",
   "metadata": {},
   "source": [
    "### For the rest of the exercises in this LAB please write the compile and run scripts yourself.\n",
    "### Be aware of the directory structure."
   ]
  },
  {
   "cell_type": "markdown",
   "id": "301e264a-d8eb-485d-9c46-cef6f0e0e53f",
   "metadata": {},
   "source": [
    "### openmp_cpp/01-simple-loop/01-simple-loop.cpp\n",
    "Try to solve the exercise, you just need to add one line of code"
   ]
  },
  {
   "cell_type": "markdown",
   "id": "7b535fcb-0c14-4521-a63e-652adba58a9a",
   "metadata": {},
   "source": [
    "### openmp_cpp/02-nowait/02-nowait.cpp\n",
    "- Try to solve the exercise.\n",
    "<br>\n",
    "If there are multiple independent loops within a\n",
    "parallel region, you can use the nowait clause\n",
    "to avoid the implied barrier at the end of the\n",
    "loop constructs."
   ]
  },
  {
   "cell_type": "markdown",
   "id": "9fa2283f-9f46-49d8-9cf6-b4a92d447ed1",
   "metadata": {},
   "source": [
    "### openmp_cpp/03-integral_serial.cpp\n",
    "### openmp_cpp/03-integral_par.cpp\n",
    "In these programs a quadratic polynom is integrated numerically\n",
    "from 0 to 1. The result of this integral is 1/3 .\n",
    "- The program 03-integral_serial.cpp is serial, compile and run it. It’s also good if we can understand what we do there.\n",
    "<br>\n",
    "- The program 03-integral_serial.cpp is the parallel version where the work is split between the threads, which is the summation. Here we have to launch two or more threads, which is a typical SPMP (SIMP) design pattern.\n",
    "- Our Task is now to run the parallel version with two and more threads using environment variables and store the time needed.\n",
    "- Write a jobscript where we can generate a table with the number of threads and runtime. This table can then be plotted using a few python commands using matplotlib.pylab\n",
    "- You can use OMP_NUM_THREADS=N ./03-integral_par.x\n"
   ]
  },
  {
   "cell_type": "code",
   "execution_count": null,
   "id": "c1079ed3-ff3a-4a0e-9ef5-0d05898ce1c3",
   "metadata": {},
   "outputs": [],
   "source": []
  }
 ],
 "metadata": {
  "kernelspec": {
   "display_name": "Python 3 (ipykernel)",
   "language": "python",
   "name": "python3"
  },
  "language_info": {
   "codemirror_mode": {
    "name": "ipython",
    "version": 3
   },
   "file_extension": ".py",
   "mimetype": "text/x-python",
   "name": "python",
   "nbconvert_exporter": "python",
   "pygments_lexer": "ipython3",
   "version": "3.10.5"
  }
 },
 "nbformat": 4,
 "nbformat_minor": 5
}
