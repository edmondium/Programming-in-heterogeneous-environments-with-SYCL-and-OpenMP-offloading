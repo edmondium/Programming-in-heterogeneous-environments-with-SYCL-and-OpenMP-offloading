{
 "cells": [
  {
   "cell_type": "markdown",
   "id": "e1fadd22-60d6-42c7-88a5-38daac8aa77e",
   "metadata": {},
   "source": [
    "# LAB3 openmp fortran\n",
    "We will be working on VSC5, I will putt only one jobscript for compilation and running of the programs here. It is your job to write the corresponding jobscripts for the exercises.\n",
    "The exercises are simple, starting with a Hello World and getting more complicated as the number increases. Try to solve before you look them up in the solution folder.\n",
    "<br>\n",
    "<br>\n",
    "The file is starting with 00, 01, ... and so on .\n",
    "<br>\n",
    "For each exercise there is separate folder in the lab folder:\n",
    "<br>\n",
    "openmp-fortran/00-Hello/\n",
    "<br>\n",
    "Do not build the programs on the login node, for each exercise we need two jobscipts."
   ]
  },
  {
   "cell_type": "markdown",
   "id": "ab9c2fe2-6fb6-4cb7-bdb3-c10f51563cda",
   "metadata": {},
   "source": [
    "# LAB3: get your hands dirty:"
   ]
  },
  {
   "cell_type": "markdown",
   "id": "9149a4a1-166d-4cc1-b118-e21eb9faca13",
   "metadata": {},
   "source": [
    "### In the directory openmp_fortran/00-Hello/\n",
    "is the following program:\n",
    "- 00-Hello.f90\n",
    "Compile and run this program several times.\n",
    "Is the result always the same?\n",
    "Let’s try to understand what is happening, the keyword here is\n",
    "concurrency of threads."
   ]
  },
  {
   "cell_type": "code",
   "execution_count": 15,
   "id": "59f6fe8d-4ade-4b4b-bf08-68b819d07c74",
   "metadata": {
    "tags": []
   },
   "outputs": [
    {
     "name": "stdout",
     "output_type": "stream",
     "text": [
      "Overwriting hello_compile_1.sh\n"
     ]
    }
   ],
   "source": [
    "%%file hello_compile_1.sh\n",
    "#!/bin/bash\n",
    "\n",
    "#SBATCH --job-name    name\n",
    "#SBATCH --cluster     vsc5\n",
    "#SBATCH --reservation training_cpu\n",
    "#SBATCH --qos         zen3_0512\n",
    "#SBATCH --partition   zen3_0512\n",
    "#SBATCH --mem         1G\n",
    "#SBATCH --time        00:05:00\n",
    "\n",
    "###########################\n",
    "\n",
    "source /opt/sw/vsc4/VSC/x86_64/generic/intel/oneapi/setvars.sh \n",
    "\n",
    "###########################\n",
    "\n",
    "echo \"**********************************************\"\n",
    "echo \"compiling \"\n",
    "echo \"ifx -fiopenmp Hello.f90 -o Hello.x\"\n",
    "echo \"**********************************************\"\n",
    "ifx -fiopenmp 00-Hello/00-Hello.f90 -o 00-Hello/00-Hello.x \n",
    "echo \"**********************************************\"\n"
   ]
  },
  {
   "cell_type": "code",
   "execution_count": 9,
   "id": "ff323519-427c-4c5b-9b01-50067ba51127",
   "metadata": {},
   "outputs": [
    {
     "name": "stdout",
     "output_type": "stream",
     "text": [
      "Submitted batch job 1621066 on cluster vsc5\n"
     ]
    }
   ],
   "source": [
    "!sbatch hello_compile_1.sh"
   ]
  },
  {
   "cell_type": "code",
   "execution_count": 16,
   "id": "a7b5fe58-1ecb-4811-9def-ff246329bf94",
   "metadata": {
    "tags": []
   },
   "outputs": [
    {
     "name": "stdout",
     "output_type": "stream",
     "text": [
      "Overwriting hello_run_1.sh\n"
     ]
    }
   ],
   "source": [
    "%%file hello_run_1.sh\n",
    "#!/bin/bash\n",
    "\n",
    "#SBATCH --job-name    name\n",
    "#SBATCH --cluster     vsc5\n",
    "#SBATCH --reservation training_cpu\n",
    "#SBATCH --qos         zen3_0512\n",
    "#SBATCH --partition   zen3_0512\n",
    "#SBATCH --mem         1G\n",
    "#SBATCH --time        00:02:00\n",
    "###########################\n",
    "\n",
    "source /opt/sw/vsc4/VSC/x86_64/generic/intel/oneapi/setvars.sh \n",
    "\n",
    "###########################\n",
    "\n",
    "export OMP_NUM_THREADS=4\n",
    "\n",
    "echo \"starting program Hello.x on the cpu\"\n",
    "echo \"**********************************************\"\n",
    "00-Hello/00-Hello.x \n",
    "echo \"**********************************************\"\n"
   ]
  },
  {
   "cell_type": "code",
   "execution_count": 13,
   "id": "daed4b07-dfb6-4bbc-aebf-25a4c3b5fbc9",
   "metadata": {},
   "outputs": [
    {
     "name": "stdout",
     "output_type": "stream",
     "text": [
      "Submitted batch job 1621072 on cluster vsc5\n"
     ]
    }
   ],
   "source": [
    "!sbatch hello_run_1.sh"
   ]
  },
  {
   "cell_type": "code",
   "execution_count": 17,
   "id": "a292ed88-9bbb-4818-961b-88e3a9ad30d2",
   "metadata": {},
   "outputs": [
    {
     "name": "stdout",
     "output_type": "stream",
     "text": [
      "             JOBID            PARTITION     NAME     USER ST       TIME  NODES     NODELIST(REASON)\n",
      "           1620734    zen3_0512_jupyter vsc5_jh_ trainee9  R    5:03:37      1            n3503-022\n"
     ]
    }
   ],
   "source": [
    "!squeue -u $USER"
   ]
  },
  {
   "cell_type": "markdown",
   "id": "174ffdd1-bb52-4fb1-b333-f99e6bbde75f",
   "metadata": {},
   "source": [
    "### writing the compile and run scripts yourself for the rest of the exercises\n",
    "Be aware of the directory structure."
   ]
  },
  {
   "cell_type": "markdown",
   "id": "301e264a-d8eb-485d-9c46-cef6f0e0e53f",
   "metadata": {},
   "source": [
    "### openmp_fortran/01-Hello-num-thread/01-Hello-num-thread.f90\n",
    "Try to solve the exercise, you just need to add one line of code"
   ]
  },
  {
   "cell_type": "markdown",
   "id": "7b535fcb-0c14-4521-a63e-652adba58a9a",
   "metadata": {},
   "source": [
    "### openmp_fortran/02-simple-loop/02-simple-loop.f90\n",
    "- Try to solve the exercise.\n",
    "- There is one loop in the program, use\n",
    "- omp target\n",
    "- and\n",
    "- omp teams distribute parallel do\n",
    "- to parallelize this loop."
   ]
  },
  {
   "cell_type": "markdown",
   "id": "9fa2283f-9f46-49d8-9cf6-b4a92d447ed1",
   "metadata": {},
   "source": [
    "### openmp_fortran/03-explicit-data-move/03-explicit-data-move.f90\n",
    "- Try to solve the exercise.\n",
    "- There is one loop were some calculations are done in the program,\n",
    "- use\n",
    "- omp target\n",
    "- and\n",
    "- omp teams distribute parallel do\n",
    "- to parallelize this loop.\n",
    "- In addition use explicit data movement.\n",
    "- map(to: ) map(from: ) map(tofrom: )"
   ]
  },
  {
   "cell_type": "markdown",
   "id": "0f3e76e9-0dbb-4658-9f6e-163ae760d99b",
   "metadata": {},
   "source": [
    "### openmp_fortran/04-explicit-data-move-multp/03-explicit-data-move-multp.f90\n",
    "- Try to solve the exercise.\n",
    "- There are several loops were some calculations are done in the program, use\n",
    "- omp target\n",
    "- and\n",
    "- omp teams distribute parallel do\n",
    "- to parallelize those loops.\n",
    "- In addition use explicit data movement and respect the dependencies.\n",
    "- map(to: ) map(from: ) map(tofrom: )"
   ]
  },
  {
   "cell_type": "code",
   "execution_count": null,
   "id": "c1079ed3-ff3a-4a0e-9ef5-0d05898ce1c3",
   "metadata": {},
   "outputs": [],
   "source": []
  }
 ],
 "metadata": {
  "kernelspec": {
   "display_name": "Python 3 (ipykernel)",
   "language": "python",
   "name": "python3"
  },
  "language_info": {
   "codemirror_mode": {
    "name": "ipython",
    "version": 3
   },
   "file_extension": ".py",
   "mimetype": "text/x-python",
   "name": "python",
   "nbconvert_exporter": "python",
   "pygments_lexer": "ipython3",
   "version": "3.10.5"
  }
 },
 "nbformat": 4,
 "nbformat_minor": 5
}
